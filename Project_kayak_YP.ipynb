{
 "cells": [
  {
   "cell_type": "markdown",
   "metadata": {},
   "source": [
    "2nd project for the bloc 1 of the Jedha certification of data science & engineering.\n",
    "Author : Youenn Patat\n",
    "\n",
    "![Kayak](https://seekvectorlogo.com/wp-content/uploads/2018/01/kayak-vector-logo.png)"
   ]
  },
  {
   "cell_type": "markdown",
   "metadata": {},
   "source": [
    "The list of cities than we will focus ourselves:\n",
    "```python \n",
    "[\"Mont Saint Michel\",\n",
    "\"St Malo\",\n",
    "\"Bayeux\",\n",
    "\"Le Havre\",\n",
    "\"Rouen\",\n",
    "\"Paris\",\n",
    "\"Amiens\",\n",
    "\"Lille\",\n",
    "\"Strasbourg\",\n",
    "\"Chateau du Haut Koenigsbourg\",\n",
    "\"Colmar\",\n",
    "\"Eguisheim\",\n",
    "\"Besancon\",\n",
    "\"Dijon\",\n",
    "\"Annecy\",\n",
    "\"Grenoble\",\n",
    "\"Lyon\",\n",
    "\"Gorges du Verdon\",\n",
    "\"Bormes les Mimosas\",\n",
    "\"Cassis\",\n",
    "\"Marseille\",\n",
    "\"Aix en Provence\",\n",
    "\"Avignon\",\n",
    "\"Uzes\",\n",
    "\"Nimes\",\n",
    "\"Aigues Mortes\",\n",
    "\"Saintes Maries de la mer\",\n",
    "\"Collioure\",\n",
    "\"Carcassonne\",\n",
    "\"Ariege\",\n",
    "\"Toulouse\",\n",
    "\"Montauban\",\n",
    "\"Biarritz\",\n",
    "\"Bayonne\",\n",
    "\"La Rochelle\"]\n",
    "```"
   ]
  },
  {
   "cell_type": "markdown",
   "metadata": {},
   "source": [
    "# Part 1 - Get the weather and localisation with API"
   ]
  },
  {
   "cell_type": "markdown",
   "metadata": {},
   "source": [
    "The two different APIs used: \n",
    "*   https://nominatim.org/ to get the gps coordinates of all the cities (no subscription required) Documentation : https://nominatim.org/release-docs/develop/api/Search/\n",
    "\n",
    "*   https://openweathermap.org/appid (you have to subscribe to get a free apikey) and https://openweathermap.org/api/one-call-api to get some information about the weather for the 35 cities and put it in a DataFrame"
   ]
  },
  {
   "cell_type": "code",
   "execution_count": 1,
   "metadata": {},
   "outputs": [],
   "source": [
    "import requests\n",
    "import pandas as pd\n",
    "import json"
   ]
  },
  {
   "cell_type": "markdown",
   "metadata": {},
   "source": [
    "1rst test with just the Mont Saint Michel"
   ]
  },
  {
   "cell_type": "code",
   "execution_count": 65,
   "metadata": {},
   "outputs": [
    {
     "data": {
      "text/plain": [
       "<Response [200]>"
      ]
     },
     "execution_count": 65,
     "metadata": {},
     "output_type": "execute_result"
    }
   ],
   "source": [
    "url = \"https://nominatim.openstreetmap.org/search?q=\"\n",
    "headers = {'User-Agent': 'Mozilla/5.0 (Macintosh; Intel Mac OS X 10_11_5) AppleWebKit/537.36 (KHTML, like Gecko) Chrome/50.0.2661.102 Safari/537.36'}\n",
    "r = requests.get(url+\"Mont+Saint+Michel&format=json\", headers=headers)\n",
    "r\n"
   ]
  },
  {
   "cell_type": "code",
   "execution_count": 79,
   "metadata": {},
   "outputs": [
    {
     "data": {
      "text/plain": [
       "{'place_id': 263784127,\n",
       " 'licence': 'Data © OpenStreetMap contributors, ODbL 1.0. http://osm.org/copyright',\n",
       " 'osm_type': 'way',\n",
       " 'osm_id': 211285890,\n",
       " 'lat': '48.6359541',\n",
       " 'lon': '-1.511459954959514',\n",
       " 'class': 'tourism',\n",
       " 'type': 'attraction',\n",
       " 'place_rank': 30,\n",
       " 'importance': 0.4723710249003365,\n",
       " 'addresstype': 'tourism',\n",
       " 'name': 'Mont Saint-Michel',\n",
       " 'display_name': \"Mont Saint-Michel, Grande Terrasse de l'Ouest, Le Mont-Saint-Michel, Avranches, Manche, Normandie, France métropolitaine, 50170, France\",\n",
       " 'boundingbox': ['48.6349172', '48.6370310', '-1.5133292', '-1.5094796']}"
      ]
     },
     "execution_count": 79,
     "metadata": {},
     "output_type": "execute_result"
    }
   ],
   "source": [
    "r.json()[0]"
   ]
  },
  {
   "cell_type": "code",
   "execution_count": 99,
   "metadata": {},
   "outputs": [
    {
     "data": {
      "text/plain": [
       "{'lat': '48.6359541', 'lon': '-1.511459954959514', 'name': 'Mont Saint-Michel'}"
      ]
     },
     "execution_count": 99,
     "metadata": {},
     "output_type": "execute_result"
    }
   ],
   "source": [
    "coordinates = {key: value for key, value in r.json()[0].items() if 'lat' in key or 'lon' in key or 'name' in key}\n",
    "del coordinates['display_name']\n",
    "coordinates"
   ]
  },
  {
   "cell_type": "markdown",
   "metadata": {},
   "source": [
    "It works !!! We obtained the `json` of informations.  \n"
   ]
  },
  {
   "cell_type": "code",
   "execution_count": 193,
   "metadata": {},
   "outputs": [
    {
     "data": {
      "text/plain": [
       "dict_keys(['lat', 'lon', 'name'])"
      ]
     },
     "execution_count": 193,
     "metadata": {},
     "output_type": "execute_result"
    }
   ],
   "source": [
    "coordinates.keys()"
   ]
  },
  {
   "cell_type": "code",
   "execution_count": 165,
   "metadata": {},
   "outputs": [
    {
     "data": {
      "text/html": [
       "<div>\n",
       "<style scoped>\n",
       "    .dataframe tbody tr th:only-of-type {\n",
       "        vertical-align: middle;\n",
       "    }\n",
       "\n",
       "    .dataframe tbody tr th {\n",
       "        vertical-align: top;\n",
       "    }\n",
       "\n",
       "    .dataframe thead th {\n",
       "        text-align: right;\n",
       "    }\n",
       "</style>\n",
       "<table border=\"1\" class=\"dataframe\">\n",
       "  <thead>\n",
       "    <tr style=\"text-align: right;\">\n",
       "      <th></th>\n",
       "      <th>lat</th>\n",
       "      <th>lon</th>\n",
       "      <th>name</th>\n",
       "    </tr>\n",
       "  </thead>\n",
       "  <tbody>\n",
       "  </tbody>\n",
       "</table>\n",
       "</div>"
      ],
      "text/plain": [
       "Empty DataFrame\n",
       "Columns: [lat, lon, name]\n",
       "Index: []"
      ]
     },
     "execution_count": 165,
     "metadata": {},
     "output_type": "execute_result"
    }
   ],
   "source": [
    "df = pd.DataFrame(columns = coordinates.keys())\n",
    "df"
   ]
  },
  {
   "cell_type": "markdown",
   "metadata": {},
   "source": [
    "Now we will loop with all the city names."
   ]
  },
  {
   "cell_type": "code",
   "execution_count": 72,
   "metadata": {},
   "outputs": [],
   "source": [
    "cities_list = [\"Mont+Saint+Michel\", \"St+Malo\", \"Bayeux\", \"Le+Havre\", \"Rouen\", \"Paris\", \"Amiens\", \"Lille\", \"Strasbourg\", \"Chateau+du+Haut+Koenigsbourg\", \"Colmar\",\n",
    "\"Eguisheim\", \"Besancon\", \"Dijon\", \"Annecy\", \"Grenoble\", \"Lyon\", \"Gorges+du+Verdon\", \"Bormes+les+Mimosas\", \"Cassis\", \"Marseille\", \"Aix+en+Provence\",\n",
    "\"Avignon\", \"Uzes\", \"Nimes\", \"Aigues+Mortes\", \"Saintes+Maries+de+la+mer\", \"Collioure\", \"Carcassonne\", \"Ariege\", \"Toulouse\", \"Montauban\", \"Biarritz\",\n",
    "\"Bayonne\", \"La+Rochelle\"]"
   ]
  },
  {
   "cell_type": "code",
   "execution_count": null,
   "metadata": {},
   "outputs": [
    {
     "name": "stdout",
     "output_type": "stream",
     "text": [
      "1 city done <Response [200]>\n",
      "2 city done <Response [200]>\n",
      "3 city done <Response [200]>\n",
      "4 city done <Response [200]>\n",
      "5 city done <Response [200]>\n",
      "6 city done <Response [200]>\n",
      "7 city done <Response [200]>\n",
      "8 city done <Response [200]>\n",
      "9 city done <Response [200]>\n",
      "10 city done <Response [200]>\n",
      "11 city done <Response [200]>\n",
      "12 city done <Response [200]>\n",
      "13 city done <Response [200]>\n",
      "14 city done <Response [200]>\n",
      "15 city done <Response [200]>\n",
      "16 city done <Response [200]>\n",
      "17 city done <Response [200]>\n",
      "18 city done <Response [200]>\n",
      "19 city done <Response [200]>\n",
      "20 city done <Response [200]>\n",
      "21 city done <Response [200]>\n",
      "22 city done <Response [200]>\n",
      "23 city done <Response [200]>\n",
      "24 city done <Response [200]>\n",
      "25 city done <Response [200]>\n",
      "26 city done <Response [200]>\n",
      "27 city done <Response [200]>\n",
      "28 city done <Response [200]>\n",
      "29 city done <Response [200]>\n",
      "30 city done <Response [200]>\n",
      "31 city done <Response [200]>\n",
      "32 city done <Response [200]>\n",
      "33 city done <Response [200]>\n",
      "34 city done <Response [200]>\n",
      "35 city done <Response [200]>\n"
     ]
    }
   ],
   "source": [
    "url = \"https://nominatim.openstreetmap.org/search?q=\"\n",
    "headers = {'User-Agent': 'Mozilla/5.0 (Macintosh; Intel Mac OS X 10_11_5) AppleWebKit/537.36 (KHTML, like Gecko) Chrome/50.0.2661.102 Safari/537.36'}\n",
    "for i in range(len(cities_list)):\n",
    "    r = requests.get(url+cities_list[i]+\"&format=json\", headers=headers)\n",
    "    print(\"{} city done\".format(i+1), r)\n",
    "    coordinates = {key: value for key, value in r.json()[0].items() if key in ['lat', 'lon', 'name']}\n",
    "    df.loc[i] = coordinates"
   ]
  },
  {
   "cell_type": "code",
   "execution_count": 216,
   "metadata": {},
   "outputs": [
    {
     "data": {
      "text/html": [
       "<div>\n",
       "<style scoped>\n",
       "    .dataframe tbody tr th:only-of-type {\n",
       "        vertical-align: middle;\n",
       "    }\n",
       "\n",
       "    .dataframe tbody tr th {\n",
       "        vertical-align: top;\n",
       "    }\n",
       "\n",
       "    .dataframe thead th {\n",
       "        text-align: right;\n",
       "    }\n",
       "</style>\n",
       "<table border=\"1\" class=\"dataframe\">\n",
       "  <thead>\n",
       "    <tr style=\"text-align: right;\">\n",
       "      <th></th>\n",
       "      <th>Latitude</th>\n",
       "      <th>Longitude</th>\n",
       "      <th>Name</th>\n",
       "    </tr>\n",
       "  </thead>\n",
       "  <tbody>\n",
       "    <tr>\n",
       "      <th>0</th>\n",
       "      <td>48.6359541</td>\n",
       "      <td>-1.511459954959514</td>\n",
       "      <td>Mont Saint-Michel</td>\n",
       "    </tr>\n",
       "    <tr>\n",
       "      <th>1</th>\n",
       "      <td>48.649518</td>\n",
       "      <td>-2.0260409</td>\n",
       "      <td>Saint-Malo</td>\n",
       "    </tr>\n",
       "    <tr>\n",
       "      <th>2</th>\n",
       "      <td>49.2764624</td>\n",
       "      <td>-0.7024738</td>\n",
       "      <td>Bayeux</td>\n",
       "    </tr>\n",
       "    <tr>\n",
       "      <th>3</th>\n",
       "      <td>49.4938975</td>\n",
       "      <td>0.1079732</td>\n",
       "      <td>Le Havre</td>\n",
       "    </tr>\n",
       "    <tr>\n",
       "      <th>4</th>\n",
       "      <td>49.4404591</td>\n",
       "      <td>1.0939658</td>\n",
       "      <td>Rouen</td>\n",
       "    </tr>\n",
       "  </tbody>\n",
       "</table>\n",
       "</div>"
      ],
      "text/plain": [
       "     Latitude           Longitude               Name\n",
       "0  48.6359541  -1.511459954959514  Mont Saint-Michel\n",
       "1   48.649518          -2.0260409         Saint-Malo\n",
       "2  49.2764624          -0.7024738             Bayeux\n",
       "3  49.4938975           0.1079732           Le Havre\n",
       "4  49.4404591           1.0939658              Rouen"
      ]
     },
     "execution_count": 216,
     "metadata": {},
     "output_type": "execute_result"
    }
   ],
   "source": [
    "df = df.rename(columns={'lat':'Latitude', 'lon':'Longitude', 'name':'Name'})\n",
    "df.head()"
   ]
  },
  {
   "cell_type": "code",
   "execution_count": 224,
   "metadata": {},
   "outputs": [],
   "source": [
    "df.to_csv(\"cities_localisation.csv\", index=False, encoding=\"utf-8\")\n",
    "df.to_json(\"city_localisation.json\", orient=\"records\", indent=4)\n"
   ]
  },
  {
   "cell_type": "code",
   "execution_count": 4,
   "metadata": {},
   "outputs": [
    {
     "data": {
      "text/html": [
       "<div>\n",
       "<style scoped>\n",
       "    .dataframe tbody tr th:only-of-type {\n",
       "        vertical-align: middle;\n",
       "    }\n",
       "\n",
       "    .dataframe tbody tr th {\n",
       "        vertical-align: top;\n",
       "    }\n",
       "\n",
       "    .dataframe thead th {\n",
       "        text-align: right;\n",
       "    }\n",
       "</style>\n",
       "<table border=\"1\" class=\"dataframe\">\n",
       "  <thead>\n",
       "    <tr style=\"text-align: right;\">\n",
       "      <th></th>\n",
       "      <th>Latitude</th>\n",
       "      <th>Longitude</th>\n",
       "      <th>Name</th>\n",
       "    </tr>\n",
       "  </thead>\n",
       "  <tbody>\n",
       "    <tr>\n",
       "      <th>0</th>\n",
       "      <td>48.635954</td>\n",
       "      <td>-1.511460</td>\n",
       "      <td>Mont Saint-Michel</td>\n",
       "    </tr>\n",
       "    <tr>\n",
       "      <th>1</th>\n",
       "      <td>48.649518</td>\n",
       "      <td>-2.026041</td>\n",
       "      <td>Saint-Malo</td>\n",
       "    </tr>\n",
       "    <tr>\n",
       "      <th>2</th>\n",
       "      <td>49.276462</td>\n",
       "      <td>-0.702474</td>\n",
       "      <td>Bayeux</td>\n",
       "    </tr>\n",
       "    <tr>\n",
       "      <th>3</th>\n",
       "      <td>49.493898</td>\n",
       "      <td>0.107973</td>\n",
       "      <td>Le Havre</td>\n",
       "    </tr>\n",
       "    <tr>\n",
       "      <th>4</th>\n",
       "      <td>49.440459</td>\n",
       "      <td>1.093966</td>\n",
       "      <td>Rouen</td>\n",
       "    </tr>\n",
       "  </tbody>\n",
       "</table>\n",
       "</div>"
      ],
      "text/plain": [
       "    Latitude  Longitude               Name\n",
       "0  48.635954  -1.511460  Mont Saint-Michel\n",
       "1  48.649518  -2.026041         Saint-Malo\n",
       "2  49.276462  -0.702474             Bayeux\n",
       "3  49.493898   0.107973           Le Havre\n",
       "4  49.440459   1.093966              Rouen"
      ]
     },
     "metadata": {},
     "output_type": "display_data"
    },
    {
     "data": {
      "text/html": [
       "<div>\n",
       "<style scoped>\n",
       "    .dataframe tbody tr th:only-of-type {\n",
       "        vertical-align: middle;\n",
       "    }\n",
       "\n",
       "    .dataframe tbody tr th {\n",
       "        vertical-align: top;\n",
       "    }\n",
       "\n",
       "    .dataframe thead th {\n",
       "        text-align: right;\n",
       "    }\n",
       "</style>\n",
       "<table border=\"1\" class=\"dataframe\">\n",
       "  <thead>\n",
       "    <tr style=\"text-align: right;\">\n",
       "      <th></th>\n",
       "      <th>Latitude</th>\n",
       "      <th>Longitude</th>\n",
       "      <th>Name</th>\n",
       "    </tr>\n",
       "  </thead>\n",
       "  <tbody>\n",
       "    <tr>\n",
       "      <th>0</th>\n",
       "      <td>48.635954</td>\n",
       "      <td>-1.511460</td>\n",
       "      <td>Mont Saint-Michel</td>\n",
       "    </tr>\n",
       "    <tr>\n",
       "      <th>1</th>\n",
       "      <td>48.649518</td>\n",
       "      <td>-2.026041</td>\n",
       "      <td>Saint-Malo</td>\n",
       "    </tr>\n",
       "    <tr>\n",
       "      <th>2</th>\n",
       "      <td>49.276462</td>\n",
       "      <td>-0.702474</td>\n",
       "      <td>Bayeux</td>\n",
       "    </tr>\n",
       "    <tr>\n",
       "      <th>3</th>\n",
       "      <td>49.493898</td>\n",
       "      <td>0.107973</td>\n",
       "      <td>Le Havre</td>\n",
       "    </tr>\n",
       "    <tr>\n",
       "      <th>4</th>\n",
       "      <td>49.440459</td>\n",
       "      <td>1.093966</td>\n",
       "      <td>Rouen</td>\n",
       "    </tr>\n",
       "  </tbody>\n",
       "</table>\n",
       "</div>"
      ],
      "text/plain": [
       "    Latitude  Longitude               Name\n",
       "0  48.635954  -1.511460  Mont Saint-Michel\n",
       "1  48.649518  -2.026041         Saint-Malo\n",
       "2  49.276462  -0.702474             Bayeux\n",
       "3  49.493898   0.107973           Le Havre\n",
       "4  49.440459   1.093966              Rouen"
      ]
     },
     "execution_count": 4,
     "metadata": {},
     "output_type": "execute_result"
    }
   ],
   "source": [
    "df2 = pd.read_json(\"city_localisation.json\")\n",
    "display(df2.head())\n",
    "\n",
    "df3 = pd.read_csv(\"cities_localisation.csv\")\n",
    "df3.head()"
   ]
  },
  {
   "cell_type": "markdown",
   "metadata": {},
   "source": [
    "Now we will extract the informations about meteo with the second API.\n",
    "\n",
    "Beginning with a test with one city."
   ]
  },
  {
   "cell_type": "code",
   "execution_count": 2,
   "metadata": {},
   "outputs": [],
   "source": [
    "import json\n",
    "import pandas as pd\n",
    "import boto3\n",
    "from dotenv import load_dotenv\n",
    "import os\n",
    "\n",
    "load_dotenv()\n",
    "weather_api_key = os.environ['WEATHER_API_KEY']\n"
   ]
  },
  {
   "cell_type": "code",
   "execution_count": 5,
   "metadata": {},
   "outputs": [
    {
     "data": {
      "text/plain": [
       "<Response [200]>"
      ]
     },
     "execution_count": 5,
     "metadata": {},
     "output_type": "execute_result"
    }
   ],
   "source": [
    "#https://api.openweathermap.org/data/2.5/weather?q=London,uk&APPID=b63df840e68ed1fabade0a250d87401b\n",
    "lat = df3['Latitude'][0]\n",
    "lon = df3['Longitude'][0]\n",
    "\n",
    "#url = \"https://api.openweathermap.org/data/2.5/weather?lat={}&lon={}&appid={}\".format(lat, lon, weather_api_key) #for current daily weather\n",
    "url = \"https://api.openweathermap.org/data/2.5/forecast?lat={}&lon={}&appid={}&units=metric\".format(lat, lon, weather_api_key) #for 5 days forecast\n",
    "headers = {'User-Agent': 'Mozilla/5.0 (Macintosh; Intel Mac OS X 10_11_5) AppleWebKit/537.36 (KHTML, like Gecko) Chrome/50.0.2661.102 Safari/537.36'}\n",
    "r = requests.get(url, headers=headers)\n",
    "r\n"
   ]
  },
  {
   "cell_type": "code",
   "execution_count": 10,
   "metadata": {},
   "outputs": [
    {
     "data": {
      "text/plain": [
       "[{'dt': 1738486800,\n",
       "  'main': {'temp': 1.62,\n",
       "   'feels_like': -2.05,\n",
       "   'temp_min': 1.62,\n",
       "   'temp_max': 1.62,\n",
       "   'pressure': 1021,\n",
       "   'sea_level': 1021,\n",
       "   'grnd_level': 1016,\n",
       "   'humidity': 83,\n",
       "   'temp_kf': 0},\n",
       "  'weather': [{'id': 800,\n",
       "    'main': 'Clear',\n",
       "    'description': 'clear sky',\n",
       "    'icon': '01d'}],\n",
       "  'clouds': {'all': 5},\n",
       "  'wind': {'speed': 3.65, 'deg': 149, 'gust': 7.53},\n",
       "  'visibility': 10000,\n",
       "  'pop': 0,\n",
       "  'sys': {'pod': 'd'},\n",
       "  'dt_txt': '2025-02-02 09:00:00'},\n",
       " {'dt': 1738497600,\n",
       "  'main': {'temp': 3.2,\n",
       "   'feels_like': -0.05,\n",
       "   'temp_min': 3.2,\n",
       "   'temp_max': 6.35,\n",
       "   'pressure': 1021,\n",
       "   'sea_level': 1021,\n",
       "   'grnd_level': 1017,\n",
       "   'humidity': 77,\n",
       "   'temp_kf': -3.15},\n",
       "  'weather': [{'id': 800,\n",
       "    'main': 'Clear',\n",
       "    'description': 'clear sky',\n",
       "    'icon': '01d'}],\n",
       "  'clouds': {'all': 5},\n",
       "  'wind': {'speed': 3.53, 'deg': 169, 'gust': 4.71},\n",
       "  'visibility': 10000,\n",
       "  'pop': 0,\n",
       "  'sys': {'pod': 'd'},\n",
       "  'dt_txt': '2025-02-02 12:00:00'},\n",
       " {'dt': 1738508400,\n",
       "  'main': {'temp': 5.79,\n",
       "   'feels_like': 4.02,\n",
       "   'temp_min': 5.79,\n",
       "   'temp_max': 7.87,\n",
       "   'pressure': 1022,\n",
       "   'sea_level': 1022,\n",
       "   'grnd_level': 1017,\n",
       "   'humidity': 69,\n",
       "   'temp_kf': -2.08},\n",
       "  'weather': [{'id': 800,\n",
       "    'main': 'Clear',\n",
       "    'description': 'clear sky',\n",
       "    'icon': '01d'}],\n",
       "  'clouds': {'all': 2},\n",
       "  'wind': {'speed': 2.28, 'deg': 185, 'gust': 3.03},\n",
       "  'visibility': 10000,\n",
       "  'pop': 0,\n",
       "  'sys': {'pod': 'd'},\n",
       "  'dt_txt': '2025-02-02 15:00:00'}]"
      ]
     },
     "execution_count": 10,
     "metadata": {},
     "output_type": "execute_result"
    }
   ],
   "source": [
    "r.json()['list'][:3]"
   ]
  },
  {
   "cell_type": "code",
   "execution_count": 71,
   "metadata": {},
   "outputs": [
    {
     "name": "stdout",
     "output_type": "stream",
     "text": [
      "0    Clouds\n",
      "1    Clouds\n",
      "2     Clear\n",
      "3     Clear\n",
      "4     Clear\n",
      "dtype: object\n",
      "Average weather will be: Clear\n"
     ]
    },
    {
     "data": {
      "text/plain": [
       "0    81\n",
       "1    85\n",
       "2    90\n",
       "3    90\n",
       "4    89\n",
       "dtype: int64"
      ]
     },
     "metadata": {},
     "output_type": "display_data"
    },
    {
     "data": {
      "text/plain": [
       "0    4.98\n",
       "1    3.80\n",
       "2    2.16\n",
       "3    0.95\n",
       "4    0.09\n",
       "dtype: float64"
      ]
     },
     "metadata": {},
     "output_type": "display_data"
    },
    {
     "name": "stdout",
     "output_type": "stream",
     "text": [
      "mean humidity: 87.0 ; mean temperature: 2.396\n"
     ]
    }
   ],
   "source": [
    "meteo_forecaste = []\n",
    "for i in range(len(r.json())):\n",
    "    meteo_forecaste.append(r.json()['list'][i]['weather'][0]['main'])\n",
    "\n",
    "meteo_forecaste = pd.Series(meteo_forecaste)\n",
    "print(meteo_forecaste)\n",
    "mean_meteo = meteo_forecaste.value_counts().idxmax()\n",
    "print('Average weather will be:', mean_meteo)\n",
    "\n",
    "humidity_forecaste = []\n",
    "temp_forecaste = []\n",
    "for i in range(len(r.json())):\n",
    "    humidity_forecaste.append(r.json()['list'][i]['main']['humidity'])\n",
    "    temp_forecaste.append(r.json()['list'][i]['main']['temp'])\n",
    "\n",
    "humidity_forecaste = pd.Series(humidity_forecaste)\n",
    "temp_forecaste = pd.Series(temp_forecaste)\n",
    "display(humidity_forecaste)\n",
    "display(temp_forecaste)\n",
    "\n",
    "mean_humidity = humidity_forecaste.mean()\n",
    "mean_temp = temp_forecaste.mean()\n",
    "\n",
    "print('mean humidity:', mean_humidity, '; mean temperature:', mean_temp)"
   ]
  },
  {
   "cell_type": "markdown",
   "metadata": {},
   "source": [
    "Now we saw that we can have mean humidity, mean temperature and average weather for the forecaste of 5 days for one location. So we will loop this to obtain all these informations for each city."
   ]
  },
  {
   "cell_type": "code",
   "execution_count": 82,
   "metadata": {},
   "outputs": [
    {
     "data": {
      "text/html": [
       "<div>\n",
       "<style scoped>\n",
       "    .dataframe tbody tr th:only-of-type {\n",
       "        vertical-align: middle;\n",
       "    }\n",
       "\n",
       "    .dataframe tbody tr th {\n",
       "        vertical-align: top;\n",
       "    }\n",
       "\n",
       "    .dataframe thead th {\n",
       "        text-align: right;\n",
       "    }\n",
       "</style>\n",
       "<table border=\"1\" class=\"dataframe\">\n",
       "  <thead>\n",
       "    <tr style=\"text-align: right;\">\n",
       "      <th></th>\n",
       "      <th>City</th>\n",
       "      <th>Weather</th>\n",
       "      <th>Humidity</th>\n",
       "      <th>Temperature</th>\n",
       "    </tr>\n",
       "  </thead>\n",
       "  <tbody>\n",
       "  </tbody>\n",
       "</table>\n",
       "</div>"
      ],
      "text/plain": [
       "Empty DataFrame\n",
       "Columns: [City, Weather, Humidity, Temperature]\n",
       "Index: []"
      ]
     },
     "metadata": {},
     "output_type": "display_data"
    },
    {
     "data": {
      "text/html": [
       "<div>\n",
       "<style scoped>\n",
       "    .dataframe tbody tr th:only-of-type {\n",
       "        vertical-align: middle;\n",
       "    }\n",
       "\n",
       "    .dataframe tbody tr th {\n",
       "        vertical-align: top;\n",
       "    }\n",
       "\n",
       "    .dataframe thead th {\n",
       "        text-align: right;\n",
       "    }\n",
       "</style>\n",
       "<table border=\"1\" class=\"dataframe\">\n",
       "  <thead>\n",
       "    <tr style=\"text-align: right;\">\n",
       "      <th></th>\n",
       "      <th>City</th>\n",
       "      <th>Weather</th>\n",
       "      <th>Humidity</th>\n",
       "      <th>Temperature</th>\n",
       "    </tr>\n",
       "  </thead>\n",
       "  <tbody>\n",
       "    <tr>\n",
       "      <th>0</th>\n",
       "      <td>Janzé</td>\n",
       "      <td>Cloud</td>\n",
       "      <td>4.25</td>\n",
       "      <td>18</td>\n",
       "    </tr>\n",
       "  </tbody>\n",
       "</table>\n",
       "</div>"
      ],
      "text/plain": [
       "    City Weather  Humidity  Temperature\n",
       "0  Janzé   Cloud      4.25           18"
      ]
     },
     "metadata": {},
     "output_type": "display_data"
    }
   ],
   "source": [
    "df_weather = pd.DataFrame( columns = [\"City\", \"Weather\", \"Humidity\", \"Temperature\"])\n",
    "display(df_weather)\n",
    "\n",
    "value1 = 'Janzé'\n",
    "value2 = 'Cloud'\n",
    "value3 = 4.25\n",
    "value4 =18\n",
    "\n",
    "df_weather.loc[0] = [value1, value2, value3, value4]\n",
    "\n",
    "display(df_weather)\n"
   ]
  },
  {
   "cell_type": "code",
   "execution_count": 83,
   "metadata": {},
   "outputs": [
    {
     "name": "stdout",
     "output_type": "stream",
     "text": [
      "1 city weather informations collected <Response [200]>\n",
      "2 city weather informations collected <Response [200]>\n",
      "3 city weather informations collected <Response [200]>\n",
      "4 city weather informations collected <Response [200]>\n",
      "5 city weather informations collected <Response [200]>\n",
      "6 city weather informations collected <Response [200]>\n",
      "7 city weather informations collected <Response [200]>\n",
      "8 city weather informations collected <Response [200]>\n",
      "9 city weather informations collected <Response [200]>\n",
      "10 city weather informations collected <Response [200]>\n",
      "11 city weather informations collected <Response [200]>\n",
      "12 city weather informations collected <Response [200]>\n",
      "13 city weather informations collected <Response [200]>\n",
      "14 city weather informations collected <Response [200]>\n",
      "15 city weather informations collected <Response [200]>\n",
      "16 city weather informations collected <Response [200]>\n",
      "17 city weather informations collected <Response [200]>\n",
      "18 city weather informations collected <Response [200]>\n",
      "19 city weather informations collected <Response [200]>\n",
      "20 city weather informations collected <Response [200]>\n",
      "21 city weather informations collected <Response [200]>\n",
      "22 city weather informations collected <Response [200]>\n",
      "23 city weather informations collected <Response [200]>\n",
      "24 city weather informations collected <Response [200]>\n",
      "25 city weather informations collected <Response [200]>\n",
      "26 city weather informations collected <Response [200]>\n",
      "27 city weather informations collected <Response [200]>\n",
      "28 city weather informations collected <Response [200]>\n",
      "29 city weather informations collected <Response [200]>\n",
      "30 city weather informations collected <Response [200]>\n",
      "31 city weather informations collected <Response [200]>\n",
      "32 city weather informations collected <Response [200]>\n",
      "33 city weather informations collected <Response [200]>\n",
      "34 city weather informations collected <Response [200]>\n",
      "35 city weather informations collected <Response [200]>\n"
     ]
    }
   ],
   "source": [
    "df_cities = pd.read_csv(\"cities_localisation.csv\")\n",
    "\n",
    "df_weather = pd.DataFrame( columns = [\"City\", \"Weather\", \"Humidity\", \"Temperature\"])\n",
    "\n",
    "for i in range(len(cities_list)):\n",
    "    lat = df_cities['Latitude'][i]\n",
    "    lon = df_cities['Longitude'][i]\n",
    "\n",
    "    url = \"https://api.openweathermap.org/data/2.5/forecast?lat={}&lon={}&appid={}&units=metric\".format(lat, lon, weather_api_key) #for 5 days forecast\n",
    "    headers = {'User-Agent': 'Mozilla/5.0 (Macintosh; Intel Mac OS X 10_11_5) AppleWebKit/537.36 (KHTML, like Gecko) Chrome/50.0.2661.102 Safari/537.36'}\n",
    "    r = requests.get(url, headers=headers)\n",
    "\n",
    "    meteo_forecaste = []\n",
    "    for weather_description in range(len(r.json())):\n",
    "        meteo_forecaste.append(r.json()['list'][weather_description]['weather'][0]['main'])\n",
    "\n",
    "    meteo_forecaste = pd.Series(meteo_forecaste)\n",
    "    mean_meteo = meteo_forecaste.value_counts().idxmax()\n",
    "\n",
    "    humidity_forecaste = []\n",
    "    temp_forecaste = []\n",
    "    for hum_temp in range(len(r.json())):\n",
    "        humidity_forecaste.append(r.json()['list'][hum_temp]['main']['humidity'])\n",
    "        temp_forecaste.append(r.json()['list'][hum_temp]['main']['temp'])\n",
    "\n",
    "    humidity_forecaste = pd.Series(humidity_forecaste)\n",
    "    temp_forecaste = pd.Series(temp_forecaste)\n",
    "    \n",
    "\n",
    "    mean_humidity = humidity_forecaste.mean()\n",
    "    mean_temp = temp_forecaste.mean()\n",
    "\n",
    "    df_weather.loc[i] = [df_cities['Name'][i], mean_meteo, mean_humidity, mean_temp]\n",
    "\n",
    "    print(\"{} city weather informations collected\".format(i+1), r)\n",
    "\n",
    "    "
   ]
  },
  {
   "cell_type": "code",
   "execution_count": 84,
   "metadata": {},
   "outputs": [
    {
     "data": {
      "text/html": [
       "<div>\n",
       "<style scoped>\n",
       "    .dataframe tbody tr th:only-of-type {\n",
       "        vertical-align: middle;\n",
       "    }\n",
       "\n",
       "    .dataframe tbody tr th {\n",
       "        vertical-align: top;\n",
       "    }\n",
       "\n",
       "    .dataframe thead th {\n",
       "        text-align: right;\n",
       "    }\n",
       "</style>\n",
       "<table border=\"1\" class=\"dataframe\">\n",
       "  <thead>\n",
       "    <tr style=\"text-align: right;\">\n",
       "      <th></th>\n",
       "      <th>City</th>\n",
       "      <th>Weather</th>\n",
       "      <th>Humidity</th>\n",
       "      <th>Temperature</th>\n",
       "    </tr>\n",
       "  </thead>\n",
       "  <tbody>\n",
       "    <tr>\n",
       "      <th>0</th>\n",
       "      <td>Mont Saint-Michel</td>\n",
       "      <td>Clear</td>\n",
       "      <td>87.0</td>\n",
       "      <td>2.396</td>\n",
       "    </tr>\n",
       "    <tr>\n",
       "      <th>1</th>\n",
       "      <td>Saint-Malo</td>\n",
       "      <td>Clouds</td>\n",
       "      <td>85.4</td>\n",
       "      <td>3.996</td>\n",
       "    </tr>\n",
       "    <tr>\n",
       "      <th>2</th>\n",
       "      <td>Bayeux</td>\n",
       "      <td>Clear</td>\n",
       "      <td>84.6</td>\n",
       "      <td>2.016</td>\n",
       "    </tr>\n",
       "    <tr>\n",
       "      <th>3</th>\n",
       "      <td>Le Havre</td>\n",
       "      <td>Clear</td>\n",
       "      <td>76.2</td>\n",
       "      <td>4.318</td>\n",
       "    </tr>\n",
       "    <tr>\n",
       "      <th>4</th>\n",
       "      <td>Rouen</td>\n",
       "      <td>Clear</td>\n",
       "      <td>82.8</td>\n",
       "      <td>1.982</td>\n",
       "    </tr>\n",
       "  </tbody>\n",
       "</table>\n",
       "</div>"
      ],
      "text/plain": [
       "                City Weather  Humidity  Temperature\n",
       "0  Mont Saint-Michel   Clear      87.0        2.396\n",
       "1         Saint-Malo  Clouds      85.4        3.996\n",
       "2             Bayeux   Clear      84.6        2.016\n",
       "3           Le Havre   Clear      76.2        4.318\n",
       "4              Rouen   Clear      82.8        1.982"
      ]
     },
     "execution_count": 84,
     "metadata": {},
     "output_type": "execute_result"
    }
   ],
   "source": [
    "df_weather.head()"
   ]
  },
  {
   "cell_type": "code",
   "execution_count": 86,
   "metadata": {},
   "outputs": [],
   "source": [
    "df_weather.to_csv(\"cities_weather.csv\", index=False, encoding=\"utf-8\")\n",
    "df_weather.to_json(\"city_weather.json\", orient=\"records\", indent=4)"
   ]
  },
  {
   "cell_type": "code",
   "execution_count": 87,
   "metadata": {},
   "outputs": [
    {
     "data": {
      "text/html": [
       "<div>\n",
       "<style scoped>\n",
       "    .dataframe tbody tr th:only-of-type {\n",
       "        vertical-align: middle;\n",
       "    }\n",
       "\n",
       "    .dataframe tbody tr th {\n",
       "        vertical-align: top;\n",
       "    }\n",
       "\n",
       "    .dataframe thead th {\n",
       "        text-align: right;\n",
       "    }\n",
       "</style>\n",
       "<table border=\"1\" class=\"dataframe\">\n",
       "  <thead>\n",
       "    <tr style=\"text-align: right;\">\n",
       "      <th></th>\n",
       "      <th>City</th>\n",
       "      <th>Weather</th>\n",
       "      <th>Humidity</th>\n",
       "      <th>Temperature</th>\n",
       "    </tr>\n",
       "  </thead>\n",
       "  <tbody>\n",
       "    <tr>\n",
       "      <th>0</th>\n",
       "      <td>Mont Saint-Michel</td>\n",
       "      <td>Clear</td>\n",
       "      <td>87.0</td>\n",
       "      <td>2.396</td>\n",
       "    </tr>\n",
       "    <tr>\n",
       "      <th>1</th>\n",
       "      <td>Saint-Malo</td>\n",
       "      <td>Clouds</td>\n",
       "      <td>85.4</td>\n",
       "      <td>3.996</td>\n",
       "    </tr>\n",
       "    <tr>\n",
       "      <th>2</th>\n",
       "      <td>Bayeux</td>\n",
       "      <td>Clear</td>\n",
       "      <td>84.6</td>\n",
       "      <td>2.016</td>\n",
       "    </tr>\n",
       "    <tr>\n",
       "      <th>3</th>\n",
       "      <td>Le Havre</td>\n",
       "      <td>Clear</td>\n",
       "      <td>76.2</td>\n",
       "      <td>4.318</td>\n",
       "    </tr>\n",
       "    <tr>\n",
       "      <th>4</th>\n",
       "      <td>Rouen</td>\n",
       "      <td>Clear</td>\n",
       "      <td>82.8</td>\n",
       "      <td>1.982</td>\n",
       "    </tr>\n",
       "  </tbody>\n",
       "</table>\n",
       "</div>"
      ],
      "text/plain": [
       "                City Weather  Humidity  Temperature\n",
       "0  Mont Saint-Michel   Clear      87.0        2.396\n",
       "1         Saint-Malo  Clouds      85.4        3.996\n",
       "2             Bayeux   Clear      84.6        2.016\n",
       "3           Le Havre   Clear      76.2        4.318\n",
       "4              Rouen   Clear      82.8        1.982"
      ]
     },
     "metadata": {},
     "output_type": "display_data"
    },
    {
     "data": {
      "text/html": [
       "<div>\n",
       "<style scoped>\n",
       "    .dataframe tbody tr th:only-of-type {\n",
       "        vertical-align: middle;\n",
       "    }\n",
       "\n",
       "    .dataframe tbody tr th {\n",
       "        vertical-align: top;\n",
       "    }\n",
       "\n",
       "    .dataframe thead th {\n",
       "        text-align: right;\n",
       "    }\n",
       "</style>\n",
       "<table border=\"1\" class=\"dataframe\">\n",
       "  <thead>\n",
       "    <tr style=\"text-align: right;\">\n",
       "      <th></th>\n",
       "      <th>City</th>\n",
       "      <th>Weather</th>\n",
       "      <th>Humidity</th>\n",
       "      <th>Temperature</th>\n",
       "    </tr>\n",
       "  </thead>\n",
       "  <tbody>\n",
       "    <tr>\n",
       "      <th>0</th>\n",
       "      <td>Mont Saint-Michel</td>\n",
       "      <td>Clear</td>\n",
       "      <td>87.0</td>\n",
       "      <td>2.396</td>\n",
       "    </tr>\n",
       "    <tr>\n",
       "      <th>1</th>\n",
       "      <td>Saint-Malo</td>\n",
       "      <td>Clouds</td>\n",
       "      <td>85.4</td>\n",
       "      <td>3.996</td>\n",
       "    </tr>\n",
       "    <tr>\n",
       "      <th>2</th>\n",
       "      <td>Bayeux</td>\n",
       "      <td>Clear</td>\n",
       "      <td>84.6</td>\n",
       "      <td>2.016</td>\n",
       "    </tr>\n",
       "    <tr>\n",
       "      <th>3</th>\n",
       "      <td>Le Havre</td>\n",
       "      <td>Clear</td>\n",
       "      <td>76.2</td>\n",
       "      <td>4.318</td>\n",
       "    </tr>\n",
       "    <tr>\n",
       "      <th>4</th>\n",
       "      <td>Rouen</td>\n",
       "      <td>Clear</td>\n",
       "      <td>82.8</td>\n",
       "      <td>1.982</td>\n",
       "    </tr>\n",
       "  </tbody>\n",
       "</table>\n",
       "</div>"
      ],
      "text/plain": [
       "                City Weather  Humidity  Temperature\n",
       "0  Mont Saint-Michel   Clear      87.0        2.396\n",
       "1         Saint-Malo  Clouds      85.4        3.996\n",
       "2             Bayeux   Clear      84.6        2.016\n",
       "3           Le Havre   Clear      76.2        4.318\n",
       "4              Rouen   Clear      82.8        1.982"
      ]
     },
     "execution_count": 87,
     "metadata": {},
     "output_type": "execute_result"
    }
   ],
   "source": [
    "df_weather_2 = pd.read_json(\"city_weather.json\")\n",
    "display(df_weather_2.head())\n",
    "\n",
    "df_weather_3 = pd.read_csv(\"cities_weather.csv\")\n",
    "df_weather_3.head()"
   ]
  },
  {
   "cell_type": "markdown",
   "metadata": {},
   "source": [
    "So we completed this part and obtained a csv and json file with the city's name associated to the mean weather, humidity and temperature for the next 5 days.  \n",
    "⚠️ It was done the 1srt of February, so the meteo data is not very good for any place in France."
   ]
  },
  {
   "cell_type": "markdown",
   "metadata": {},
   "source": [
    "# Part 2 - Get the hotels infos with the web scraping"
   ]
  },
  {
   "cell_type": "markdown",
   "metadata": {},
   "source": [
    "The web scraping will be done on Booking https://www.booking.com/index.fr.html\n",
    "\n",
    "Informations to scrape:\n",
    "*   hotel name,\n",
    "*   Url to its booking.com page,\n",
    "*   Its coordinates: latitude and longitude\n",
    "*   Score given by the website users\n",
    "*   Text description of the hotel\n",
    "*   Address"
   ]
  },
  {
   "cell_type": "markdown",
   "metadata": {},
   "source": [
    "Here we will do the testing phase for scraping. When it will be done we will loop it in a spider file (.py file) and store all the data in json files. "
   ]
  },
  {
   "cell_type": "markdown",
   "metadata": {},
   "source": [
    "1st step : loop for each city the scraping to get the url page for each hotel. Collect all in multiples json files, 1 per city.  \n",
    "\n",
    "2nd step : loop for each page to get the infos for the hotels, and collect all the data in a json file for each city.  \n"
   ]
  },
  {
   "cell_type": "code",
   "execution_count": 110,
   "metadata": {},
   "outputs": [
    {
     "data": {
      "text/plain": [
       "<Selector query=None data='<html><head><script type=\"text/javasc...'>"
      ]
     },
     "execution_count": 110,
     "metadata": {},
     "output_type": "execute_result"
    }
   ],
   "source": [
    "import requests\n",
    "from scrapy import Selector\n",
    "\n",
    "#url for test for hotels at Mont Saint Michel\n",
    "#https://www.booking.com/searchresults.fr.html?label=gen173nr-1FCAEoggI46AdIDVgEaE2IAQGYAQ24ARfIAQ_YAQHoAQH4AQKIAgGoAgO4AsjX_LwGwAIB0gIkNDRhYWMwM2EtMTM2ZS00MGRjLWE3ZTktNjU0NWM2MzJhNGIz2AIF4AIB&aid=304142&ss=Le+Mont-Saint-Michel%C+France&efdco=1&lang=fr&src=index&dest_id=900039327&dest_type=city&ac_position=0&ac_click_type=b&ac_langcode=fr&ac_suggestion_list_length=5&search_selected=true&search_pageview_id=d4b23b24d4940325&checkin=2025-02-02&checkout=2025-02-09&group_adults=2&no_rooms=1&group_children=0&nflt=ht_id%3D204\n",
    "\n",
    "headers = {\n",
    "    'User-Agent': 'Mozilla/5.0 (Windows NT 10.0; Win64; x64) AppleWebKit/537.36 (KHTML, like Gecko) Chrome/58.0.3029.110 Safari/537.3'\n",
    "}\n",
    "\n",
    "url = \"https://www.booking.com/searchresults.fr.html?label=gen173nr-1FCAEoggI46AdIDVgEaE2IAQGYAQ24ARfIAQ_YAQHoAQH4AQKIAgGoAgO4AsjX_LwGwAIB0gIkNDRhYWMwM2EtMTM2ZS00MGRjLWE3ZTktNjU0NWM2MzJhNGIz2AIF4AIB&aid=304142&ss=Le+Mont-Saint-Michel%C+France&efdco=1&lang=fr&src=index&dest_id=900039327&dest_type=city&ac_position=0&ac_click_type=b&ac_langcode=fr&ac_suggestion_list_length=5&search_selected=true&search_pageview_id=d4b23b24d4940325&checkin=2025-02-02&checkout=2025-02-09&group_adults=2&no_rooms=1&group_children=0&nflt=ht_id%3D204\"\n",
    "r = requests.get(url, headers=headers)\n",
    "\n",
    "response = Selector(text=r.text)\n",
    "response"
   ]
  },
  {
   "cell_type": "code",
   "execution_count": 113,
   "metadata": {},
   "outputs": [],
   "source": [
    "hotel_url = response.css(\"a[class='a78ca197d0']\").attrib[\"href\"]"
   ]
  },
  {
   "cell_type": "code",
   "execution_count": 114,
   "metadata": {},
   "outputs": [
    {
     "data": {
      "text/plain": [
       "'https://www.booking.com/hotel/fr/hotel-saint-aubert.fr.html?label=gen173nr-1FCAEoggI46AdIDVgEaE2IAQGYAQ24ARfIAQ_YAQHoAQH4AQKIAgGoAgO4AsjX_LwGwAIB0gIkNDRhYWMwM2EtMTM2ZS00MGRjLWE3ZTktNjU0NWM2MzJhNGIz2AIF4AIB&aid=304142&ucfs=1&arphpl=1&checkin=2025-02-02&checkout=2025-02-09&dest_id=900039327&dest_type=city&group_adults=2&req_adults=2&no_rooms=1&group_children=0&req_children=0&hpos=2&hapos=2&sr_order=popularity&nflt=ht_id%3D204&srpvid=916b42ff1a7605b5&srepoch=1738488703&all_sr_blocks=23081103_347524575_0_2_0&highlighted_blocks=23081103_347524575_0_2_0&matching_block_id=23081103_347524575_0_2_0&sr_pri_blocks=23081103_347524575_0_2_0__93120&from=searchresults'"
      ]
     },
     "execution_count": 114,
     "metadata": {},
     "output_type": "execute_result"
    }
   ],
   "source": [
    "hotel_url"
   ]
  },
  {
   "cell_type": "markdown",
   "metadata": {},
   "source": [
    "It works 👍!\n",
    "\n",
    "Now see for the 2nd step with hotel info."
   ]
  },
  {
   "cell_type": "code",
   "execution_count": 121,
   "metadata": {},
   "outputs": [
    {
     "data": {
      "text/plain": [
       "<Selector query=None data='<html><head><script type=\"text/javasc...'>"
      ]
     },
     "execution_count": 121,
     "metadata": {},
     "output_type": "execute_result"
    }
   ],
   "source": [
    "import requests\n",
    "from scrapy import Selector\n",
    "\n",
    "headers = {\n",
    "    'User-Agent': 'Mozilla/5.0 (Windows NT 10.0; Win64; x64) AppleWebKit/537.36 (KHTML, like Gecko) Chrome/58.0.3029.110 Safari/537.3'\n",
    "}\n",
    "\n",
    "url = hotel_url\n",
    "r = requests.get(url, headers=headers)\n",
    "\n",
    "response = Selector(text=r.text)\n",
    "response"
   ]
  },
  {
   "cell_type": "code",
   "execution_count": 146,
   "metadata": {},
   "outputs": [],
   "source": [
    "hotel_name = response.css(\"h2[class='d2fee87262 pp-header__title']::text\").get()\n",
    "url_hotel = url\n",
    "hotel_coordinates = response.css(\"a[id='map_trigger_header']::attr(data-atlas-latlng)\").get()\n",
    "score = response.css(\"div[class='a3b8729ab1 d86cee9b25']::text\").get().replace(',', '.')\n",
    "text_description = response.css(\"p[class='a53cbfa6de b3efd73f69']::text\").get()\n",
    "address = response.css(\"div[class='a53cbfa6de f17adf7576']::text\").get()"
   ]
  },
  {
   "cell_type": "code",
   "execution_count": 123,
   "metadata": {},
   "outputs": [
    {
     "data": {
      "text/plain": [
       "'Le Saint Aubert'"
      ]
     },
     "execution_count": 123,
     "metadata": {},
     "output_type": "execute_result"
    }
   ],
   "source": [
    "hotel_name"
   ]
  },
  {
   "cell_type": "code",
   "execution_count": 124,
   "metadata": {},
   "outputs": [
    {
     "data": {
      "text/plain": [
       "'https://www.booking.com/hotel/fr/hotel-saint-aubert.fr.html?label=gen173nr-1FCAEoggI46AdIDVgEaE2IAQGYAQ24ARfIAQ_YAQHoAQH4AQKIAgGoAgO4AsjX_LwGwAIB0gIkNDRhYWMwM2EtMTM2ZS00MGRjLWE3ZTktNjU0NWM2MzJhNGIz2AIF4AIB&aid=304142&ucfs=1&arphpl=1&checkin=2025-02-02&checkout=2025-02-09&dest_id=900039327&dest_type=city&group_adults=2&req_adults=2&no_rooms=1&group_children=0&req_children=0&hpos=2&hapos=2&sr_order=popularity&nflt=ht_id%3D204&srpvid=916b42ff1a7605b5&srepoch=1738488703&all_sr_blocks=23081103_347524575_0_2_0&highlighted_blocks=23081103_347524575_0_2_0&matching_block_id=23081103_347524575_0_2_0&sr_pri_blocks=23081103_347524575_0_2_0__93120&from=searchresults'"
      ]
     },
     "execution_count": 124,
     "metadata": {},
     "output_type": "execute_result"
    }
   ],
   "source": [
    "url_hotel"
   ]
  },
  {
   "cell_type": "code",
   "execution_count": 125,
   "metadata": {},
   "outputs": [
    {
     "data": {
      "text/plain": [
       "'48.612937834706464,-1.5101051330566406'"
      ]
     },
     "execution_count": 125,
     "metadata": {},
     "output_type": "execute_result"
    }
   ],
   "source": [
    "hotel_coordinates"
   ]
  },
  {
   "cell_type": "code",
   "execution_count": 141,
   "metadata": {},
   "outputs": [
    {
     "data": {
      "text/plain": [
       "'7.7'"
      ]
     },
     "execution_count": 141,
     "metadata": {},
     "output_type": "execute_result"
    }
   ],
   "source": [
    "score"
   ]
  },
  {
   "cell_type": "code",
   "execution_count": 145,
   "metadata": {},
   "outputs": [
    {
     "data": {
      "text/plain": [
       "\"Niché dans un écrin de verdure, à seulement 2 km du Mont-Saint-Michel, Le Saint Aubert vous accueille dans un cadre chaleureux et convivial.\\n\\nCet établissement vous propose des chambres paisibles et confortables entourées de jardins fleuris.\\n\\nAprès une journée de découverte du Mont-Saint-Michel, vous pourrez déguster une délicieuse cuisine régionale dans le cadre pittoresque d'une ancienne ferme.\\n\\nLe personnel serviable sera heureux de vous recommander un grand nombre de sites d'intérêt et les visites à faire dans la région.\""
      ]
     },
     "execution_count": 145,
     "metadata": {},
     "output_type": "execute_result"
    }
   ],
   "source": [
    "text_description"
   ]
  },
  {
   "cell_type": "code",
   "execution_count": 147,
   "metadata": {},
   "outputs": [
    {
     "data": {
      "text/plain": [
       "'La Caserne, 50170 Le Mont-Saint-Michel, France'"
      ]
     },
     "execution_count": 147,
     "metadata": {},
     "output_type": "execute_result"
    }
   ],
   "source": [
    "address"
   ]
  },
  {
   "cell_type": "markdown",
   "metadata": {},
   "source": [
    "Now, see the loo for scrping in the 2 .py files in the folder."
   ]
  }
 ],
 "metadata": {
  "kernelspec": {
   "display_name": "Python 3",
   "language": "python",
   "name": "python3"
  },
  "language_info": {
   "codemirror_mode": {
    "name": "ipython",
    "version": 3
   },
   "file_extension": ".py",
   "mimetype": "text/x-python",
   "name": "python",
   "nbconvert_exporter": "python",
   "pygments_lexer": "ipython3",
   "version": "3.12.1"
  }
 },
 "nbformat": 4,
 "nbformat_minor": 2
}
